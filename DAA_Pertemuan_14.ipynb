{
  "nbformat": 4,
  "nbformat_minor": 0,
  "metadata": {
    "colab": {
      "provenance": [],
      "authorship_tag": "ABX9TyOkCjJKJW+k4DuYliuzHdCk",
      "include_colab_link": true
    },
    "kernelspec": {
      "name": "python3",
      "display_name": "Python 3"
    },
    "language_info": {
      "name": "python"
    }
  },
  "cells": [
    {
      "cell_type": "markdown",
      "metadata": {
        "id": "view-in-github",
        "colab_type": "text"
      },
      "source": [
        "<a href=\"https://colab.research.google.com/github/maruwuko/Desain-Analisis-Algoritma/blob/main/DAA_Pertemuan_14.ipynb\" target=\"_parent\"><img src=\"https://colab.research.google.com/assets/colab-badge.svg\" alt=\"Open In Colab\"/></a>"
      ]
    },
    {
      "cell_type": "code",
      "execution_count": 2,
      "metadata": {
        "id": "di91HWGoDPHh"
      },
      "outputs": [],
      "source": [
        "import networkx as nx\n",
        "import matplotlib.pyplot as plt\n",
        "vertices = range (1,10)\n",
        "edges= [(7,2), (2,3), (7,4), (4,5), (7,3), (7,5), (1, 6), (1,7), (2,8), (2,9)]\n",
        "G = nx.Graph ()\n",
        "G.add_nodes_from (vertices) \n",
        "G.add_edges_from (edges) \n",
        "pos=nx.spring_layout (G)"
      ]
    },
    {
      "cell_type": "code",
      "source": [
        "nx.draw_networkx_nodes ( G, pos,\n",
        "                         nodelist=[1, 4, 3, 8, 9],\n",
        "                         node_color='g',\n",
        "                         node_size=1300)"
      ],
      "metadata": {
        "colab": {
          "base_uri": "https://localhost:8080/",
          "height": 265
        },
        "id": "te7wBa-XDnpe",
        "outputId": "d3b14fa4-e239-46af-f0a7-f3a2f90ff26c"
      },
      "execution_count": 3,
      "outputs": [
        {
          "output_type": "execute_result",
          "data": {
            "text/plain": [
              "<matplotlib.collections.PathCollection at 0x7f0fade88fd0>"
            ]
          },
          "metadata": {},
          "execution_count": 3
        },
        {
          "output_type": "display_data",
          "data": {
            "text/plain": [
              "<Figure size 432x288 with 1 Axes>"
            ],
            "image/png": "[encoded data removed]"
          },
          "metadata": {}
        }
      ]
    },
    {
      "cell_type": "code",
      "source": [
        "nx.draw_networkx_nodes ( G, pos,\n",
        "                         nodelist=[2,5,6,7],\n",
        "                         node_color='r',\n",
        "                         node_size=1300)"
      ],
      "metadata": {
        "colab": {
          "base_uri": "https://localhost:8080/",
          "height": 265
        },
        "id": "943nHGvAT__7",
        "outputId": "812a3130-5a77-4c17-8c3f-5ef855b29e52"
      },
      "execution_count": 4,
      "outputs": [
        {
          "output_type": "execute_result",
          "data": {
            "text/plain": [
              "<matplotlib.collections.PathCollection at 0x7f0fade30c10>"
            ]
          },
          "metadata": {},
          "execution_count": 4
        },
        {
          "output_type": "display_data",
          "data": {
            "text/plain": [
              "<Figure size 432x288 with 1 Axes>"
            ],
            "image/png": "[encoded data removed]"
          },
          "metadata": {}
        }
      ]
    },
    {
      "cell_type": "code",
      "source": [
        "nx.draw_networkx_edges(G, pos, edges, width=3, alpha=0.5,edge_color='b')\n",
        "labels = {}\n",
        "labels[1] = r'1 NF'\n",
        "labels[2] = r'2 F'\n",
        "labels[3] = r'3 NF'\n",
        "labels[4] = r'4 NF'\n",
        "labels[5] = r'5 F'\n",
        "labels[6] = r'6 F'\n",
        "labels[7] = r'7 F'\n",
        "labels[8] = r'8 NF'\n",
        "labels[9] = r'9 NF'\n",
        "\n",
        "nx.draw_networkx_labels(G, pos, labels, font_size=16)"
      ],
      "metadata": {
        "colab": {
          "base_uri": "https://localhost:8080/",
          "height": 404
        },
        "id": "l-u1yu2PT6I5",
        "outputId": "d18e02f0-3f66-4947-cd09-ec5a982457be"
      },
      "execution_count": 5,
      "outputs": [
        {
          "output_type": "execute_result",
          "data": {
            "text/plain": [
              "{1: Text(-0.11543552340665568, -0.5908690911683062, '1 NF'),\n",
              " 2: Text(0.24890079596969447, 0.359164591580499, '2 F'),\n",
              " 3: Text(0.19964410962360737, 0.06091101979495656, '3 NF'),\n",
              " 4: Text(-0.5023711460380921, 0.08875465133732939, '4 NF'),\n",
              " 5: Text(-0.5180593488025536, -0.15281389725553182, '5 F'),\n",
              " 6: Text(-0.12074083944266024, -1.0, '6 F'),\n",
              " 7: Text(-0.12224634600057838, -0.06183844980847252, '7 F'),\n",
              " 8: Text(0.2794366724272564, 0.7843212161386839, '8 NF'),\n",
              " 9: Text(0.6508716256699811, 0.5123699593808416, '9 NF')}"
            ]
          },
          "metadata": {},
          "execution_count": 5
        },
        {
          "output_type": "display_data",
          "data": {
            "text/plain": [
              "<Figure size 432x288 with 1 Axes>"
            ],
            "image/png": "[encoded data removed]"
          },
          "metadata": {}
        }
      ]
    }
  ]
}