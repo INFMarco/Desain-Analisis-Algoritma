{
  "nbformat": 4,
  "nbformat_minor": 0,
  "metadata": {
    "colab": {
      "provenance": [],
      "authorship_tag": "ABX9TyOODOHEq8/wY2RwhNJRxFwB",
      "include_colab_link": true
    },
    "kernelspec": {
      "name": "python3",
      "display_name": "Python 3"
    },
    "language_info": {
      "name": "python"
    }
  },
  "cells": [
    {
      "cell_type": "markdown",
      "metadata": {
        "id": "view-in-github",
        "colab_type": "text"
      },
      "source": [
        "<a href=\"https://colab.research.google.com/github/maruwuko/Desain-Analisis-Algoritma/blob/main/DAA_Pertemuan_6.ipynb\" target=\"_parent\"><img src=\"https://colab.research.google.com/assets/colab-badge.svg\" alt=\"Open In Colab\"/></a>"
      ]
    },
    {
      "cell_type": "code",
      "execution_count": null,
      "metadata": {
        "id": "X44QHtz2rFkt"
      },
      "outputs": [],
      "source": [
        "#Fibonaci dengan while\n",
        "nterms = int (input(\"How many terms\"))\n",
        "n1, n2 = 0, 1\n",
        "count = 0\n",
        "\n",
        "if nterms <= 0:\n",
        "    print(\"Please enter a positive integer\")\n",
        "elif nterms == 1:\n",
        "    print(\"Fibonacci sequence upto \",nterms,\":\")\n",
        "    print(n1)\n",
        "else:\n",
        "    print(\"Fibonacci sequence:\")\n",
        "    while count < nterms:\n",
        "        print(n1)\n",
        "        nth = n1+n2\n",
        "        #update nilai\n",
        "        n1 = n2\n",
        "        n2 = nth\n",
        "        count += 1"
      ]
    },
    {
      "cell_type": "code",
      "source": [
        "#Fibonacci dengan rekursi\n",
        "\n",
        "def recur_fibo(n):\n",
        "   if n <= 1:\n",
        "       return n \n",
        "   else:\n",
        "       return(recur_fibo(n-1)+ recur_fibo(n-2))\n",
        "\n",
        "nterms = int(input(\"Masukkan berapa banyak angkanya: \"))\n",
        "\n",
        "#cek apakah nilai nterms valid\n",
        "if  nterms <= 0:\n",
        "    print(\"Please enter a positive integer\") \n",
        "else:\n",
        "    print(\"Fibonacci Sequence up to: \",nterms,\":\")\n",
        "    for i in range(nterms):\n",
        "        print(recur_fibo(i))"
      ],
      "metadata": {
        "id": "dCuJ0ukEskU6"
      },
      "execution_count": null,
      "outputs": []
    },
    {
      "cell_type": "code",
      "source": [
        "import random\n",
        "from itertools import permutations\n",
        "alltours = permutations\n",
        "\n",
        "def distance_tour(aTour):\n",
        "    return sum(distance_points(aTour[i - 1], aTour[i])\n",
        "        for i in range(len(aTour)))\n",
        "\n",
        "aCity = complex\n",
        "\n",
        "def distance_points(first, second):\n",
        "    return abs(first - second)\n",
        "\n",
        "def generate_cities (number_of_cities):\n",
        "    seed=111;width=500;height=300\n",
        "    random.seed((number_of_cities, seed))\n",
        "    return frozenset(aCity(random.randint(1, width), random.randint(1, width))\n",
        "        for c in range(number_of_cities))"
      ],
      "metadata": {
        "id": "fdu54VRkulDD"
      },
      "execution_count": 51,
      "outputs": []
    },
    {
      "cell_type": "code",
      "source": [
        "%matplotlib inline\n",
        "import matplotlib.pyplot as plt\n",
        "\n",
        "def visualize_tour(tour, style='bo'):\n",
        "    if len(tour) > 1000: plt.figure(figsize=(15,10))\n",
        "    start = tour[0:1]\n",
        "    visualize_segment(tour + start, style)\n",
        "    visualize_segment(start, 'rD')\n",
        "def visualize_segment(segment, style='bo'):\n",
        "        plt.plot([X(c) for c in segment], [Y(c) for c in segment], style, clip_on=False)\n",
        "        plt.axis('scaled')\n",
        "        plt.axis('off')\n",
        "\n",
        "def X(city): \"X axis\"; return city.real\n",
        "def Y(city): \"Y axis\"; return city.imag"
      ],
      "metadata": {
        "id": "sziSJM6F07Az"
      },
      "execution_count": 52,
      "outputs": []
    },
    {
      "cell_type": "code",
      "source": [
        "from time import process_time\n",
        "from collections import Counter\n",
        "def tsp(algorithm, cities):\n",
        "    t0 = process_time()\n",
        "    tour = algorithm(cities)\n",
        "    t1 = process_time()\n",
        "    assert Counter(tour) == Counter(cities)\n",
        "    visualize_tour(tour)\n",
        "    print(\"{}:{} cities => tour length {:.0f}(in {:.3f} sec)\".format(name(algorithm), len(tour), distance_tour(tour), t1-t0))\n",
        "\n",
        "def name(algorithm): return algorithm.__name__.replace('_tsp_','')"
      ],
      "metadata": {
        "id": "dhSzZ80u2IDY"
      },
      "execution_count": 53,
      "outputs": []
    },
    {
      "cell_type": "code",
      "source": [
        "def greedy_algorithm(cities, start=None):\n",
        "    C = start or first(cities)\n",
        "    tour = [C]\n",
        "    unvisited = set(cities - {C})\n",
        "    while unvisited:\n",
        "        C = nearest_neighbor(C, unvisited)\n",
        "        tour.append(C)\n",
        "        unvisited.remove(C)\n",
        "    return tour\n",
        "\n",
        "def first(collection): return next(iter(collection))\n",
        "\n",
        "def nearest_neighbor(A, cities):\n",
        "    return min(cities, key=lambda C: distance_points(C, A))"
      ],
      "metadata": {
        "id": "5w8SUEVW3RVh"
      },
      "execution_count": 54,
      "outputs": []
    },
    {
      "cell_type": "code",
      "source": [
        "tsp(greedy_algorithm, generate_cities(10))"
      ],
      "metadata": {
        "colab": {
          "base_uri": "https://localhost:8080/",
          "height": 265
        },
        "id": "l-CYb1j-4TJ0",
        "outputId": "296fb671-aa94-4a25-84ef-4883d6f96d4c"
      },
      "execution_count": 57,
      "outputs": [
        {
          "output_type": "stream",
          "name": "stdout",
          "text": [
            "greedy_algorithm:10 cities => tour length 2123(in 0.000 sec)\n"
          ]
        },
        {
          "output_type": "display_data",
          "data": {
            "text/plain": [
              "<Figure size 432x288 with 1 Axes>"
            ],
            "image/png": "[encoded data removed]"
          },
          "metadata": {
            "needs_background": "light"
          }
        }
      ]
    },
    {
      "cell_type": "code",
      "source": [
        "string = 'BCAADDDCCACACAC'\n",
        "#Creating tree nodes\n",
        "class NodeTree(object):\n",
        "\n",
        "    def __init__(self, left=None, right=None):\n",
        "        self.left = left\n",
        "        self.right = right\n",
        "\n",
        "    def children(self):\n",
        "        return(self.left, self.right)\n",
        "\n",
        "    def nodes(self):\n",
        "        return(self.left, self.right)\n",
        "\n",
        "    def __str__(self):\n",
        "        return '%s_%s' %(self.left, self.right)"
      ],
      "metadata": {
        "id": "7UFDMDPBH_Zy"
      },
      "execution_count": 70,
      "outputs": []
    },
    {
      "cell_type": "code",
      "source": [
        "def huffman_code_tree(node, left=True, binString=''):\n",
        "    if type(node) is str:\n",
        "        return {node: binString}\n",
        "    (l, r) = node.children()\n",
        "    d = dict()\n",
        "    d.update(huffman_code_tree(l, True, binString + '0'))\n",
        "    d.update(huffman_code_tree(r, False, binString + '1'))\n",
        "    return d"
      ],
      "metadata": {
        "id": "-tKkEq0hJTst"
      },
      "execution_count": 71,
      "outputs": []
    },
    {
      "cell_type": "code",
      "source": [
        "freq = {}\n",
        "for c in string:\n",
        "    if c in freq:\n",
        "        freq[c] += 1\n",
        "    else:\n",
        "        freq[c] = 1\n",
        "\n",
        "freq = sorted(freq.items(), key=lambda x: x[1], reverse=True)\n",
        "\n",
        "nodes = freq\n",
        "\n",
        "while len(nodes)>1:\n",
        "    (key1, c1) = nodes[-1]\n",
        "    (key2, c2) = nodes[-2]\n",
        "    nodes = nodes[:-2]\n",
        "    node = NodeTree(key1, key2)\n",
        "    nodes.append((node, c1 + c2))\n",
        "\n",
        "    nodes = sorted(nodes, key=lambda x: x[1], reverse=True)\n",
        "\n",
        "huffmanCode = huffman_code_tree(nodes[0][0])\n",
        "\n",
        "print(' Char | Huffman Code ')\n",
        "print('---------------------')\n",
        "for (char, frequency) in freq:\n",
        "    print(' %-4r |%12s'%(char, huffmanCode[char]))"
      ],
      "metadata": {
        "colab": {
          "base_uri": "https://localhost:8080/"
        },
        "id": "9ymQayNkKhfc",
        "outputId": "3c28c7f2-4ea7-462f-8975-3fd064fc4152"
      },
      "execution_count": 72,
      "outputs": [
        {
          "output_type": "stream",
          "name": "stdout",
          "text": [
            " Char | Huffman Code \n",
            "---------------------\n",
            " 'C'  |           0\n",
            " 'A'  |          11\n",
            " 'D'  |         101\n",
            " 'B'  |         100\n"
          ]
        }
      ]
    }
  ]
}