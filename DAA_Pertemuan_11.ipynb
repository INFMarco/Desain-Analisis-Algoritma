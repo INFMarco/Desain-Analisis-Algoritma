{
  "nbformat": 4,
  "nbformat_minor": 0,
  "metadata": {
    "colab": {
      "provenance": [],
      "authorship_tag": "ABX9TyMzwBeuA4wQE8eOK8B5SODB",
      "include_colab_link": true
    },
    "kernelspec": {
      "name": "python3",
      "display_name": "Python 3"
    },
    "language_info": {
      "name": "python"
    }
  },
  "cells": [
    {
      "cell_type": "markdown",
      "metadata": {
        "id": "view-in-github",
        "colab_type": "text"
      },
      "source": [
        "<a href=\"https://colab.research.google.com/github/maruwuko/Desain-Analisis-Algoritma/blob/main/DAA_Pertemuan_11.ipynb\" target=\"_parent\"><img src=\"https://colab.research.google.com/assets/colab-badge.svg\" alt=\"Open In Colab\"/></a>"
      ]
    },
    {
      "cell_type": "code",
      "execution_count": 1,
      "metadata": {
        "id": "xLxNHxsy6jGN"
      },
      "outputs": [],
      "source": [
        "#a-----b\n",
        "#/     /\n",
        "#/     /\n",
        "#c-----d-----e"
      ]
    },
    {
      "cell_type": "code",
      "source": [
        "#Create the dictionary with graph elements\n",
        "graph = { \"a\" : [\"b\",\"c\"],\n",
        "          \"b\" : [\"a\",\"d\"],\n",
        "          \"c\" : [\"a\",\"d\"],\n",
        "          \"d\" : [\"e\"],\n",
        "          \"e\" : [\"d\"]\n",
        "        }\n",
        "\n",
        "#print the graph\n",
        "print (graph)"
      ],
      "metadata": {
        "colab": {
          "base_uri": "https://localhost:8080/"
        },
        "id": "KqIdkVtc6xJX",
        "outputId": "4c7e171a-aedd-4c8f-ad25-a72b59c646a6"
      },
      "execution_count": 4,
      "outputs": [
        {
          "output_type": "stream",
          "name": "stdout",
          "text": [
            "{'a': ['b', 'c'], 'b': ['a', 'd'], 'c': ['a', 'd'], 'd': ['e'], 'e': ['d']}\n"
          ]
        }
      ]
    },
    {
      "cell_type": "code",
      "source": [
        "graph = { \"t\" : [\"u\",\"w\"],\n",
        "          \"u\" : [\"t\",\"v\"],\n",
        "          \"v\" : [\"u\",\"x\"],\n",
        "          \"w\" : [\"x\",\"z\"],\n",
        "          \"x\" : [\"w\",\"s\"],\n",
        "          \"z\" : [\"w\"],\n",
        "          \"s\" : [\"x\"]\n",
        "         }\n",
        "\n",
        "print (graph)"
      ],
      "metadata": {
        "colab": {
          "base_uri": "https://localhost:8080/"
        },
        "id": "6XDIc2QK7kXN",
        "outputId": "def551d8-0bd3-45b7-f647-54c38cc1b192"
      },
      "execution_count": 7,
      "outputs": [
        {
          "output_type": "stream",
          "name": "stdout",
          "text": [
            "{'t': ['u', 'w'], 'u': ['t', 'v'], 'v': ['u', 'x'], 'w': ['x', 'z'], 'x': ['w', 's'], 'z': ['w'], 's': ['x']}\n"
          ]
        }
      ]
    },
    {
      "cell_type": "code",
      "source": [
        "graph = { \"r\" : [\"l\",\"o\"],\n",
        "          \"o\" : [\"r\",\"m\",\"p\"],\n",
        "          \"m\" : [\"n\",\"o\"],\n",
        "          \"l\" : [\"r\",\"p\"],\n",
        "          \"p\" : [\"l\",\"n\",\"o\"],\n",
        "          \"n\" : [\"m\",\"p\"]\n",
        "         }\n",
        "\n",
        "print (graph)"
      ],
      "metadata": {
        "colab": {
          "base_uri": "https://localhost:8080/"
        },
        "id": "VtJjSsLH8z7K",
        "outputId": "84559466-56c7-4be1-e540-06cc3c1c4a06"
      },
      "execution_count": 9,
      "outputs": [
        {
          "output_type": "stream",
          "name": "stdout",
          "text": [
            "{'r': ['l', 'o'], 'o': ['r', 'm', 'p'], 'm': ['n', 'o'], 'l': ['r', 'p'], 'p': ['l', 'n', 'o'], 'n': ['m', 'p']}\n"
          ]
        }
      ]
    },
    {
      "cell_type": "code",
      "source": [
        "class graph:\n",
        "    def __init__(self,gdict = None):\n",
        "        if gdict is None:\n",
        "            gdict = []\n",
        "        self.gdict = gdict\n",
        "\n",
        "#Get the keys of the Dictionary\n",
        "    def getVertices(self):\n",
        "        return list(self.gdict.keys())\n",
        "\n",
        "#Create the dictionary with graphs elements\n",
        "graph_elements = {\"a\" : [\"b\",\"c\"],\n",
        "                \"b\" : [\"a\", \"d\"],\n",
        "                \"c\" : [\"a\", \"d\"],\n",
        "                \"d\" : [\"e\"],\n",
        "                \"e\" : [\"d\"]\n",
        "                }\n",
        "\n",
        "g = graph(graph_elements)\n",
        "print(g.getVertices())"
      ],
      "metadata": {
        "colab": {
          "base_uri": "https://localhost:8080/"
        },
        "id": "oSkBPWb29y8z",
        "outputId": "8668c299-4c4e-4420-f64d-af1c98c99074"
      },
      "execution_count": 12,
      "outputs": [
        {
          "output_type": "stream",
          "name": "stdout",
          "text": [
            "['a', 'b', 'c', 'd', 'e']\n"
          ]
        }
      ]
    },
    {
      "cell_type": "code",
      "source": [
        "class graph:\n",
        "\n",
        "    def __init__(self,gdict=None):\n",
        "        if gdict is None:\n",
        "            gdict = {}\n",
        "        self.gdict = gdict\n",
        "    \n",
        "    def getVertices(self):\n",
        "        return list(self.gdict.keys())\n",
        "    \n",
        "    def addVertex(self, vrtx):\n",
        "       if vrtx not in self.gdict:\n",
        "            self.gdict[vrtx] = []\n",
        "\n",
        "graph_elements = { \"a\" : [\"b\",\"c\"],\n",
        "                \"b\" : [\"a\", \"d\"],\n",
        "                \"c\" : [\"a\", \"d\"],\n",
        "                \"d\" : [\"e\"],\n",
        "                \"e\" : [\"d\"]\n",
        "                 }\n",
        "\n",
        "g = graph(graph_elements)\n",
        "g.addVertex(\"f\")\n",
        "print(g.getVertices())"
      ],
      "metadata": {
        "colab": {
          "base_uri": "https://localhost:8080/"
        },
        "id": "aU0OHWUlJdp4",
        "outputId": "7e9cb134-6696-4e36-f6d1-268bd69143a6"
      },
      "execution_count": 15,
      "outputs": [
        {
          "output_type": "stream",
          "name": "stdout",
          "text": [
            "['a', 'b', 'c', 'd', 'e', 'f']\n"
          ]
        }
      ]
    },
    {
      "cell_type": "code",
      "source": [
        "class graph:\n",
        "\n",
        "    def __init__(self,gdict=None):\n",
        "        if gdict is None:\n",
        "            gdict = {}\n",
        "        self.gdict = gdict\n",
        "\n",
        "    def edges(self):\n",
        "        return self.findedges()\n",
        "\n",
        "    def AddEdge(self, edge):\n",
        "        edge = set(edge)\n",
        "        (vrtx1, vrtx2) = tuple(edge)\n",
        "        if vrtx1 in self.gdict:\n",
        "            self.gdict[vrtx1].append(vrtx2)\n",
        "        else:\n",
        "            self.gdict[vrtx1] = [vrtx2]\n",
        "\n",
        "    def findedges(self):\n",
        "        edgename = []\n",
        "        for vrtx in self.gdict:\n",
        "            for nxtvrtx in self.gdict[vrtx]:\n",
        "                if (nxtvrtx, vrtx) not in edgename:\n",
        "                    edgename.append({vrtx, nxtvrtx})\n",
        "            return edgename"
      ],
      "metadata": {
        "id": "W-KUkP7xL5QK"
      },
      "execution_count": 21,
      "outputs": []
    },
    {
      "cell_type": "code",
      "source": [
        "graph_elements = { \"a\" : [\"b\",\"c\"],\n",
        "                \"b\" : [\"a\",\"d\"],\n",
        "                \"c\" : [\"a\",\"d\"],\n",
        "                \"d\" : [\"e\"],\n",
        "                \"e\" : [\"d\"] \n",
        "                }\n",
        "\n",
        "g = graph(graph_elements)\n",
        "g.AddEdge({'a','e'})\n",
        "g.AddEdge({'a','c'})\n",
        "print(g.edges())"
      ],
      "metadata": {
        "colab": {
          "base_uri": "https://localhost:8080/"
        },
        "id": "DpqRT3u5R_ez",
        "outputId": "d6f30764-7c0c-49e6-99e4-b6ca3528bd71"
      },
      "execution_count": 22,
      "outputs": [
        {
          "output_type": "stream",
          "name": "stdout",
          "text": [
            "[{'b', 'a'}, {'c', 'a'}, {'a', 'e'}]\n"
          ]
        }
      ]
    }
  ]
}