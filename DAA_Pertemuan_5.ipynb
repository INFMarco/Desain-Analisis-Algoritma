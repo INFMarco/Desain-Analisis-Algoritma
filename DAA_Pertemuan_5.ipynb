{
  "nbformat": 4,
  "nbformat_minor": 0,
  "metadata": {
    "colab": {
      "provenance": [],
      "authorship_tag": "ABX9TyNkHtkxHA6qKXL3QS8DoX5H",
      "include_colab_link": true
    },
    "kernelspec": {
      "name": "python3",
      "display_name": "Python 3"
    },
    "language_info": {
      "name": "python"
    }
  },
  "cells": [
    {
      "cell_type": "markdown",
      "metadata": {
        "id": "view-in-github",
        "colab_type": "text"
      },
      "source": [
        "<a href=\"https://colab.research.google.com/github/maruwuko/Desain-Analisis-Algoritma/blob/main/DAA_Pertemuan_5.ipynb\" target=\"_parent\"><img src=\"https://colab.research.google.com/assets/colab-badge.svg\" alt=\"Open In Colab\"/></a>"
      ]
    },
    {
      "cell_type": "code",
      "execution_count": 6,
      "metadata": {
        "colab": {
          "base_uri": "https://localhost:8080/"
        },
        "id": "-NWbc69Koce7",
        "outputId": "49d10a6c-c034-474b-8ca9-4524689116a2"
      },
      "outputs": [
        {
          "output_type": "stream",
          "name": "stdout",
          "text": [
            "6\n"
          ]
        }
      ],
      "source": [
        "# Implementasi Algoritma Inversi dalam suatu Array\n",
        "# Hitung Inversi\n",
        "\n",
        "def countInversion(arr):\n",
        "  result=0\n",
        "  for i in range (len(arr)):\n",
        "    for j in range(i+1,len(arr)):\n",
        "      if arr[i]>arr[j]:\n",
        "        result+=1\n",
        "  return result\n",
        "arr=[21, 70, 36, 14, 25]\n",
        "result=countInversion(arr)\n",
        "print(result)"
      ]
    },
    {
      "cell_type": "code",
      "source": [
        "# Implementasi Algoritma Inversi dalam suatu Array\n",
        "# Hitung Inversei dengan Divide dan Conquer\n",
        "\n",
        "def countInversion(arr):\n",
        "    icount=0\n",
        "    if len(arr)<=1:\n",
        "        return icount\n",
        "\n",
        "    mid=len(arr)//2\n",
        "    left=arr[:mid]\n",
        "    right=arr[mid:]\n",
        "    icount+=countInversion(left)\n",
        "    icount+=countInversion(right)\n",
        "    i=j=k=0\n",
        "\n",
        "  #print (left)\n",
        "  #print (right)\n",
        "    while i<len(left) and j<len(right):\n",
        "        if left[i]<right[j]:\n",
        "          arr[k]=left[i]\n",
        "          i+=1\n",
        "        else:\n",
        "          #print(left[i], right[j])\n",
        "          arr[k]=right[j]\n",
        "          j+=1\n",
        "          icount+=(mid-i)\n",
        "          k+=1\n",
        "\n",
        "    while i<len(left):\n",
        "          arr[k]=left[i]\n",
        "          i+=1\n",
        "          k+=1\n",
        "    while j<len(right):\n",
        "          arr[k]=right[j]\n",
        "          j+=1\n",
        "          k+=1\n",
        "    return icount\n",
        "\n",
        "arr=[1, 20, 6, 4, 5]\n",
        "result = countInversion(arr)\n",
        "print(result)"
      ],
      "metadata": {
        "colab": {
          "base_uri": "https://localhost:8080/"
        },
        "id": "td56DjwWsR0Q",
        "outputId": "9ac78b44-11e3-47ea-b95d-9034d6c3a72c"
      },
      "execution_count": 76,
      "outputs": [
        {
          "output_type": "stream",
          "name": "stdout",
          "text": [
            "8\n"
          ]
        }
      ]
    },
    {
      "cell_type": "code",
      "source": [
        "# Implementasi Algoritma Maximum Subarray Sum\n",
        "# Tanpa divide dan conquer\n",
        "\n",
        "def maxSubSum(arr):\n",
        "    max_so_far=0\n",
        "    max_ending_here=0\n",
        "    for i in range(len(arr)):\n",
        "        max_ending_here+=arr[i]\n",
        "        if max_ending_here>max_so_far:\n",
        "            max_so_far=max_ending_here\n",
        "        if max_ending_here<0:\n",
        "            max_ending_here=0\n",
        "    return max_so_far\n",
        "\n",
        "arr=[-2, -5, 6, -2, -3, 1, 5, -6]\n",
        "result=maxSubSum(arr)\n",
        "print(result)"
      ],
      "metadata": {
        "colab": {
          "base_uri": "https://localhost:8080/"
        },
        "id": "Cd72oSypuUTP",
        "outputId": "f2efc736-8340-4cbf-c218-19eef835ad87"
      },
      "execution_count": 75,
      "outputs": [
        {
          "output_type": "stream",
          "name": "stdout",
          "text": [
            "7\n"
          ]
        }
      ]
    },
    {
      "cell_type": "code",
      "source": [
        "# Implementasi Algoritma Maximum Subarray Sum\n",
        "#Menggunakan Divide and Conquer\n",
        "\n",
        "def maxCrossingSum(arr, low, mid, high):\n",
        "  result=0; leftSum=float('-infinity')\n",
        "  for i in range(mid, low-1, -1):\n",
        "    result+=arr[i]\n",
        "    if result>leftSum:\n",
        "      leftSum=result\n",
        "  result=0; rightSum=float('-infinity')\n",
        "  for i in range(mid+1,high+1):\n",
        "    result+=arr[i]\n",
        "    if result>rightSum:\n",
        "      rightSum=result\n",
        "  return leftSum+rightSum\n",
        "\n",
        "def maxSum(arr,low,high):\n",
        "  if low==high:\n",
        "    return arr[low]\n",
        "  mid=(low+high)//2\n",
        "  return max(maxSum(arr,low,mid),maxSum(arr,mid+1,high),maxCrossingSum(arr,low,mid,high))\n",
        "  \n",
        "arr=[-2, -5, 6, -2, -3, 1, 5, -6]\n",
        "result=maxSum(arr,0,len(arr)-1)\n",
        "print(result)"
      ],
      "metadata": {
        "colab": {
          "base_uri": "https://localhost:8080/"
        },
        "id": "74HM7-pXxjE_",
        "outputId": "d35e349d-d476-4357-a4d7-92e5fd94872e"
      },
      "execution_count": 17,
      "outputs": [
        {
          "output_type": "stream",
          "name": "stdout",
          "text": [
            "7\n"
          ]
        }
      ]
    },
    {
      "cell_type": "code",
      "source": [
        "# Implementasi Algoritma Longest Common Prefix\n",
        "#Dengan Divide dan Conquer\n",
        "\n",
        "def commonPrefix(str1, str2):\n",
        "    n1=len(str1);n2=len(str2)\n",
        "    i,j=0,0\n",
        "    s=\"\"\n",
        "    while i<n1 and j<n2:\n",
        "      if str1[i]==str2[j]:\n",
        "        s+=str1[i]\n",
        "        i+=1\n",
        "        j+=1\n",
        "      else:\n",
        "        break\n",
        "    return s"
      ],
      "metadata": {
        "id": "bgP_nEJlzgnj"
      },
      "execution_count": 61,
      "outputs": []
    },
    {
      "cell_type": "code",
      "source": [
        "def longestCommonPrefix(arr,low,high):\n",
        "  if low==high:\n",
        "    return arr[low]\n",
        "  mid=(low + high)//2\n",
        "  result1=longestCommonPrefix(arr,low,mid)\n",
        "  result2=longestCommonPrefix(arr,mid + 1,high)\n",
        "  result=commonPrefix(result1,result2)\n",
        "  return result"
      ],
      "metadata": {
        "id": "0EW0M-L26Kbf"
      },
      "execution_count": 62,
      "outputs": []
    },
    {
      "cell_type": "code",
      "source": [
        "arr=['geeksforgeeks', 'geeks','geek','geezer']\n",
        "result=longestCommonPrefix(arr,0,len(arr)-1)\n",
        "print(result)"
      ],
      "metadata": {
        "colab": {
          "base_uri": "https://localhost:8080/"
        },
        "id": "a6_ReCIX6ANe",
        "outputId": "6ffe3e23-d450-49a4-9973-067c71d1fea9"
      },
      "execution_count": 63,
      "outputs": [
        {
          "output_type": "stream",
          "name": "stdout",
          "text": [
            "gee\n"
          ]
        }
      ]
    },
    {
      "cell_type": "code",
      "source": [
        "arr=[\"apple\",\"ape\",\"april\"]\n",
        "result=longestCommonPrefix(arr,0,len(arr)-1)\n",
        "print(result)"
      ],
      "metadata": {
        "colab": {
          "base_uri": "https://localhost:8080/"
        },
        "id": "0kpvEWOC5reH",
        "outputId": "0eac8ba6-6bdc-460c-948f-d6302e73d1ca"
      },
      "execution_count": 64,
      "outputs": [
        {
          "output_type": "stream",
          "name": "stdout",
          "text": [
            "ap\n"
          ]
        }
      ]
    },
    {
      "cell_type": "code",
      "source": [
        "# Implementasi Algoritma Median Dua Array urut sama ukuran\n",
        "#Median dari dua array dengan divide dan conquer\n",
        "\n",
        "def medianOfArray(arr1, arr2, n):\n",
        "      m1=-1 #first number\n",
        "      m2=-1 #second number\n",
        "      count=0\n",
        "      i=j=0\n",
        "      while count <n+1:\n",
        "          count+=1\n",
        "          if i==n: # i==5 index error if arr1[i]<arr2[j] is checked\n",
        "            m1=m2\n",
        "            m2=arr2[0]\n",
        "            break\n",
        "          if j==n:\n",
        "            m1=m2\n",
        "            m2=arr1[0]\n",
        "            break\n",
        "          if arr1[i]<arr2[j]:\n",
        "            m1=m2\n",
        "            m2=arr1[i]\n",
        "            i+=1\n",
        "          else:\n",
        "            m1=m2\n",
        "            m2=arr2[j]\n",
        "            j+=1\n",
        "      return(m1+m2)//2\n"
      ],
      "metadata": {
        "id": "LcXkD9R3Ck3B"
      },
      "execution_count": 72,
      "outputs": []
    },
    {
      "cell_type": "code",
      "source": [
        "arr1=[1, 12, 15, 26, 38]\n",
        "arr2=[2, 13, 17, 30, 45]\n",
        "print(medianOfArray(arr1, arr2,len(arr1)))"
      ],
      "metadata": {
        "colab": {
          "base_uri": "https://localhost:8080/"
        },
        "id": "KtbTnvtlHylC",
        "outputId": "81514d0b-5f5c-4d71-db74-eae3d1350b16"
      },
      "execution_count": 77,
      "outputs": [
        {
          "output_type": "stream",
          "name": "stdout",
          "text": [
            "16\n"
          ]
        }
      ]
    },
    {
      "cell_type": "code",
      "source": [
        "# Implementasi Algoritma Median Dua Array urut berbeda ukuran\n",
        "# Floor in sorted Array\n",
        "\n",
        "def floorSorted(arr,low,high,x):\n",
        "    #print(low,high)\n",
        "    if low>high:\n",
        "        return -1\n",
        "\n",
        "    if arr[low]>x:\n",
        "        #print(\"inside\")\n",
        "        return -1\n",
        "\n",
        "    if arr[high]<=x:\n",
        "        return arr[high]\n",
        "\n",
        "    mid=(low+high)//2\n",
        "\n",
        "    if arr[mid]==x:\n",
        "        return arr[mid]\n",
        "    \n",
        "    if mid>0 and x>=arr[mid-1] and arr [mid]>x:\n",
        "        return arr[mid-1]\n",
        "\n",
        "    if mid<high and x<arr[mid+1] and x>=arr[mid]:\n",
        "        return arr[mid]\n",
        "\n",
        "    if x>arr[mid]:\n",
        "      return floorSorted(arr,mid+1,high,x)\n",
        "    else:\n",
        "      return floorSorted(arr,low,mid-1,x)\n",
        "\n",
        "arr=[1,2,8,10,12,14,19]\n",
        "x=5\n",
        "print(floorSorted(arr,0,len(arr)-1,x))"
      ],
      "metadata": {
        "colab": {
          "base_uri": "https://localhost:8080/"
        },
        "id": "zyOIDcr1OqLn",
        "outputId": "e05fd39a-2a18-48f5-8600-0c13848d529d"
      },
      "execution_count": 80,
      "outputs": [
        {
          "output_type": "stream",
          "name": "stdout",
          "text": [
            "2\n"
          ]
        }
      ]
    },
    {
      "cell_type": "code",
      "source": [
        "# Implementasi Algoritma Nilai Terdekat\n",
        "# Mencari Nilai terdekat dengan metode divide dan conquer\n",
        "\n",
        "def closestNumber(arr,low,high,x):\n",
        "    if low>high:\n",
        "        return -1\n",
        "    if arr[high]<=x:\n",
        "        return arr[high]\n",
        "    if arr[low]>=x:\n",
        "        return arr[low]\n",
        "    mid(low+high)//2\n",
        "    if arr[mid]==x:\n",
        "        return arr[mid]\n",
        "    abs_mid=abs(arr[mid]-x)\n",
        "    if mid>0:\n",
        "        abs_left=abs(arr[mid-1]-x)\n",
        "        if abs_left<abs_mid:\n",
        "            return closestNumber(arr,low,mid-1,x)\n",
        "    if mid<high:\n",
        "        abs_right=abs(arr[mid+1]-x)\n",
        "        if abs_right<abs_mid:\n",
        "            return closestNumber(arr,mid+1,high,x)\n",
        "    #print('after')\n",
        "    return arr[mid]\n",
        "\n",
        "arr=[2,5,6,7,8,8,9]\n",
        "x = 9\n",
        "print(closestNumber(arr,0,len(arr)-1,x))"
      ],
      "metadata": {
        "colab": {
          "base_uri": "https://localhost:8080/"
        },
        "id": "EtVPJcqWRISN",
        "outputId": "75e1ddf6-44ac-44fe-bdae-1cd099ff59ee"
      },
      "execution_count": 83,
      "outputs": [
        {
          "output_type": "stream",
          "name": "stdout",
          "text": [
            "9\n"
          ]
        }
      ]
    },
    {
      "cell_type": "code",
      "source": [
        "# Implementasi Algoritma Fixed Point\n",
        "# Mencari Fixed Point dengan metode divide dan conquer\n",
        "\n",
        "def fixedPoint(arr,low,high):\n",
        "    if low>high:\n",
        "        return -1\n",
        "    if arr[high]==high:\n",
        "        return arr[high]\n",
        "    if arr[low]==low:\n",
        "        return arr[low]\n",
        "    mid=(low+high)//2\n",
        "    if arr[mid]==mid:\n",
        "        return arr[mid]\n",
        "    if mid>arr[mid]:\n",
        "        return fixedPoint(arr,mid+1,high)\n",
        "    else:\n",
        "        return fixedPoint(arr,low,mid-1)\n",
        "\n",
        "arr=[9,1,4,5,2]\n",
        "print(fixedPoint(arr,0,len(arr)-1))"
      ],
      "metadata": {
        "colab": {
          "base_uri": "https://localhost:8080/"
        },
        "id": "b0OIY-i2S3RU",
        "outputId": "81719cc4-faa7-47b5-97ec-08b0da7c82ad"
      },
      "execution_count": 84,
      "outputs": [
        {
          "output_type": "stream",
          "name": "stdout",
          "text": [
            "1\n"
          ]
        }
      ]
    }
  ]
}